{
  "nbformat": 4,
  "nbformat_minor": 0,
  "metadata": {
    "colab": {
      "provenance": [],
      "collapsed_sections": [
        "7s99bdsh5Fa2",
        "v9afKONru5rJ"
      ]
    },
    "kernelspec": {
      "name": "python3",
      "display_name": "Python 3"
    }
  },
  "cells": [
    {
      "cell_type": "markdown",
      "metadata": {
        "id": "RHjrtDna5L4o"
      },
      "source": [
        "# Расчётное задание по математической статистике"
      ]
    },
    {
      "cell_type": "code",
      "metadata": {
        "id": "0qD1GQJ73pZu"
      },
      "source": [
        "# N(0, 1), Стюдента, Хи-квадрат, Фишера\n",
        "from scipy.stats import norm, nct, chi2, f, ecdf\n",
        "\n",
        "import matplotlib.pyplot as plt\n",
        "from math import sqrt\n",
        "import numpy as np\n"
      ],
      "execution_count": 3,
      "outputs": []
    },
    {
      "cell_type": "markdown",
      "metadata": {
        "id": "7s99bdsh5Fa2"
      },
      "source": [
        "## Нормальная совокупность"
      ]
    },
    {
      "cell_type": "code",
      "metadata": {
        "id": "_RXeiTkB5B-a",
        "outputId": "9b0a0a29-68b4-4e32-c51a-d6a7d508672d",
        "colab": {
          "base_uri": "https://localhost:8080/"
        }
      },
      "source": [
        "# Date\n",
        "a = -1       # Среднее a\n",
        "sigma2 = 0.9 # Дисперсия σ^2\n",
        "eps = 0.07   # Ошибка ε\n",
        "\n",
        "Xn = np.array([-1.126, -1.432, -0.156 , 0.260, -1.389, 0.674, -1.331, -0.395 , 1.043, -2.331, \\\n",
        "              -1.044, -1.231, -1.225, -0.177, -0.938, -0.606, -1.210, -0.258, -1.013, -1.805, \\\n",
        "              -0.143, -2.986, -0.448, -1.131 , -2.545, -0.554, -2.940, -2.282, -0.198, 0.463, \\\n",
        "              -1.917, -1.150, 0.325, -2.808, -1.485, -2.663, -0.567, -1.331, 0.409, -0.661, \\\n",
        "              -0.818, 0.786, -0.755, 0.749, -1.250, -2.619, -0.867, -0.898, -0.632, -1.276])\n",
        "n = Xn.size   # объем выборки = 50\n",
        "X_ =  np.average(Xn)\n",
        "print(\"Выборочное среднее:\", X_)\n",
        "\n",
        "S = np.average(Xn*Xn) - X_**2   # Выборочная дисперсия\n",
        "print(\"S:\", S)\n",
        "\n",
        "S_0 = (n/(n-1))*S   # Несмещенная выборочная дисперсия\n",
        "print(\"S0:\", S_0)\n",
        "\n",
        "S_1 = Xn - a*np.ones(n)\n",
        "S_1 = sum(S_1*S_1)/n  # выборочная дисперсия при известном мат ожидании\n",
        "print(\"S1:\", S_1)\n",
        "\n",
        "print(\"Квантили\")\n",
        "q_n = round(norm.ppf(1 - eps/2), 4) # квантиль станд. норм. уровня 1 - eps/2 = 0.965\n",
        "print(\"N(0, 1):\", q_n)\n",
        "\n",
        "# Распределение Стьюдента (n = 50, несмещёное)\n",
        "st = nct(df = n - 1, nc = 0)  # где df - параметр степеней свободы, а nc - параметр нецентральности\n",
        "q_s = round(st.ppf(1 - eps/2), 4) # квантиль Стьюдента уровня 1 - eps/2 = 0.965\n",
        "print(\"T(49):  \", q_s)  # распределение Стьюдента со степенью свободны n-1 = 49\n",
        "\n",
        "# Распределение Хи-квадрат (n = 50)\n",
        "ch = chi2(df = n - 1)\n",
        "print(\"\\nХи^2(49)\")\n",
        "q_chi_1 = round(ch.ppf(eps/2), 3) # квантиль Хи-квадрат уровня eps/2 = 0.035\n",
        "print(\"e/2    :\", q_chi_1)\n",
        "q_chi_2 = round(ch.ppf(1 - eps/2), 3) # квантиль Хи-квадрат  уровня 1 - eps/2 = 0.965\n",
        "print(\"1 - e/2:\", q_chi_2)\n"
      ],
      "execution_count": 4,
      "outputs": [
        {
          "output_type": "stream",
          "name": "stdout",
          "text": [
            "Выборочное среднее: -0.95764\n",
            "S: 1.0060174303999998\n",
            "S0: 1.0265483983673467\n",
            "S1: 1.0078118000000003\n",
            "Квантили\n",
            "N(0, 1): 1.8119\n",
            "T(49):   1.8524\n",
            "\n",
            "Хи^2(49)\n",
            "e/2    : 32.656\n",
            "1 - e/2: 68.38\n"
          ]
        }
      ]
    },
    {
      "cell_type": "markdown",
      "source": [
        "Строим доверительные интервалы"
      ],
      "metadata": {
        "id": "Dqh4p_3tdylC"
      }
    },
    {
      "cell_type": "code",
      "metadata": {
        "id": "Mpk05prYAetJ",
        "outputId": "80b24a26-a510-4127-febf-ec1e370b3341",
        "colab": {
          "base_uri": "https://localhost:8080/"
        }
      },
      "source": [
        "# A - α, (σ известно)\n",
        "offset = q_n*sqrt(sigma2)/sqrt(n)\n",
        "\n",
        "L = round(X_ - offset, 3)\n",
        "R = round(X_ + offset, 3)\n",
        "print(L, \"<=\", a, \"<=\", R)\n"
      ],
      "execution_count": 5,
      "outputs": [
        {
          "output_type": "stream",
          "name": "stdout",
          "text": [
            "-1.201 <= -1 <= -0.715\n"
          ]
        }
      ]
    },
    {
      "cell_type": "code",
      "metadata": {
        "id": "EibqtTDhJOj3",
        "outputId": "3c1b6ee4-9746-4c35-9165-add4bfdc4314",
        "colab": {
          "base_uri": "https://localhost:8080/"
        }
      },
      "source": [
        "# Б - α, (σ неизвестно)\n",
        "\n",
        "offset = q_s*S_0/sqrt(n)\n",
        "\n",
        "L = round(X_ - offset, 3)\n",
        "R = round(X_ + offset, 3)\n",
        "print(L,\"<=\", a, \"<=\", R)\n"
      ],
      "execution_count": 6,
      "outputs": [
        {
          "output_type": "stream",
          "name": "stdout",
          "text": [
            "-1.227 <= -1 <= -0.689\n"
          ]
        }
      ]
    },
    {
      "cell_type": "code",
      "metadata": {
        "id": "v9lTZlIq7tr7",
        "outputId": "05431abb-11dc-4b6f-be52-c6b83aa089e3",
        "colab": {
          "base_uri": "https://localhost:8080/"
        }
      },
      "source": [
        "# В - σ^2, (α известно)\n",
        "\n",
        "L = round(n*S_1/q_chi_2, 3)\n",
        "R = round(n*S_1/q_chi_1, 3)\n",
        "print(L,\"<=\", sigma2, \"<=\", R)\n"
      ],
      "execution_count": 7,
      "outputs": [
        {
          "output_type": "stream",
          "name": "stdout",
          "text": [
            "0.737 <= 0.9 <= 1.543\n"
          ]
        }
      ]
    },
    {
      "cell_type": "code",
      "metadata": {
        "id": "I33Nu4N7GFqZ",
        "outputId": "4e4d324b-a19b-4046-e1b6-78922cb78986",
        "colab": {
          "base_uri": "https://localhost:8080/"
        }
      },
      "source": [
        "# Г - σ^2, (α неизвестно)\n",
        "\n",
        "L = round(n*S/q_chi_2, 3)\n",
        "R = round(n*S/q_chi_1, 3)\n",
        "print(L,\"<=\", sigma2, \"<=\", R)\n"
      ],
      "execution_count": 8,
      "outputs": [
        {
          "output_type": "stream",
          "name": "stdout",
          "text": [
            "0.736 <= 0.9 <= 1.54\n"
          ]
        }
      ]
    },
    {
      "cell_type": "markdown",
      "metadata": {
        "id": "asHk7zr4IWHu"
      },
      "source": [
        "##Гипотиза о равномерности выборки (U[0, 1])\n"
      ]
    },
    {
      "cell_type": "code",
      "metadata": {
        "id": "a5H4AJTbIixx",
        "outputId": "6899d82a-7309-470c-ce3b-e80deca566f4",
        "colab": {
          "base_uri": "https://localhost:8080/"
        }
      },
      "source": [
        "# Date\n",
        "Xu = np.array([0.552, 0.822, 0.667, 0.754, 0.641, 0.322, 0.087, 0.684, 0.618, 0.768,\\\n",
        "              0.790, 0.865, 0.437, 0.322, 0.293, 0.198, 0.902, 0.218, 0.562, 0.226,\\\n",
        "              0.060, 0.149, 0.134, 0.698, 0.746, 0.447, 0.175, 0.802, 0.398, 0.581])\n",
        "\n",
        "Xu = np.sort(Xu) # отсортировано для удобства нахождения эмпирической функции\n",
        "n = Xu.size   # объем выборки = 30\n",
        "\n",
        "print(\"Выборочное среднее:\", np.average(Xu))\n",
        "\n",
        "K = 5 # кол-во интервалов для Хи-квадрат\n",
        "\n",
        "q_k = 1.3 # квантиль Колмогорова уровня 1 - eps = 0.93 (eps = 0.07). взял из таблицы\n",
        "\n",
        "ch = chi2(df = K - 1)\n",
        "q_ch = ch.ppf(1 - eps) # квантиль Хи-квадрат уровня 1 - eps = 0.93\n"
      ],
      "execution_count": 9,
      "outputs": [
        {
          "output_type": "stream",
          "name": "stdout",
          "text": [
            "Выборочное среднее: 0.49726666666666663\n"
          ]
        }
      ]
    },
    {
      "cell_type": "code",
      "metadata": {
        "id": "GUnuXhWEVB6h",
        "outputId": "ad5c3fcc-59af-4bed-ba4c-7221ec72ee7c",
        "colab": {
          "base_uri": "https://localhost:8080/",
          "height": 701
        }
      },
      "source": [
        "# A\n",
        "# Критерий Колмогорова\n",
        "\n",
        "plt.figure(figsize=(9,6))\n",
        "\n",
        "# График функции распределения\n",
        "plt.plot(Xu,Xu, label=\"distribution\", color = \"black\")\n",
        "\n",
        "# Эмпирическое распределение и массив его значений\n",
        "def empirical_distribution(x):\n",
        "    count = np.zeros_like(x)\n",
        "    for i, val in enumerate(x):\n",
        "        count[i] = np.sum(x <= val)\n",
        "    return count / len(x)\n",
        "\n",
        "empirical_values = empirical_distribution(Xu)\n",
        "print(empirical_values)\n",
        "\n",
        "plt.hlines(empirical_values[0], Xu[0], Xu[0], label=\"empiric_new\")\n",
        "for j in range(n-1):\n",
        "    plt.hlines(empirical_values[j+1], Xu[j], Xu[j+1])\n",
        "\n",
        "\n",
        "plt.legend(title='Functions:')\n",
        "plt.grid()\n",
        "plt.show()\n",
        "\n",
        "D = sqrt(n) * max(abs(empirical_values - Xu)) # Статистика Колмогорова (расстояние Колмогорова * sqrt(n))\n",
        "\n",
        "if D < q_k:\n",
        "    print(\"Выборка равномерная\")\n",
        "else:\n",
        "    print(\"Выборка НЕ равномерная\")\n",
        "\n",
        "print(\"\\nРДУЗ (по таблице):\")\n",
        "print(\"d =\", round(D, 4))\n",
        "print(\"РДУЗ = 1 - K(d):\", 1-0.016)  # K(d) = 0.016. взято из таблицы\n"
      ],
      "execution_count": 10,
      "outputs": [
        {
          "output_type": "stream",
          "name": "stdout",
          "text": [
            "[0.03333333 0.06666667 0.1        0.13333333 0.16666667 0.2\n",
            " 0.23333333 0.26666667 0.3        0.36666667 0.36666667 0.4\n",
            " 0.43333333 0.46666667 0.5        0.53333333 0.56666667 0.6\n",
            " 0.63333333 0.66666667 0.7        0.73333333 0.76666667 0.8\n",
            " 0.83333333 0.86666667 0.9        0.93333333 0.96666667 1.        ]\n"
          ]
        },
        {
          "output_type": "display_data",
          "data": {
            "text/plain": [
              "<Figure size 900x600 with 1 Axes>"
            ],
            "image/png": "[encoded data removed]"
          },
          "metadata": {}
        },
        {
          "output_type": "stream",
          "name": "stdout",
          "text": [
            "Выборка равномерная\n",
            "\n",
            "РДУЗ (по таблице):\n",
            "d = 0.6098\n",
            "РДУЗ = 1 - K(d): 0.984\n"
          ]
        }
      ]
    },
    {
      "cell_type": "code",
      "metadata": {
        "id": "VCI3lgjO5HK2",
        "outputId": "1a1e15fd-2a40-4ee1-bd52-9cfdf1704455",
        "colab": {
          "base_uri": "https://localhost:8080/",
          "height": 359
        }
      },
      "source": [
        "# Б\n",
        "# Критерий Хи-квадрат (асимптотического размера eps)\n",
        "\n",
        "def getMu(Split):\n",
        "    Mu = []\n",
        "    c = 0; i = 0\n",
        "    for s in Split:\n",
        "        while Xu[i] <= s:\n",
        "            c+=1;\n",
        "            if i < n-1:i+=1\n",
        "            else: break\n",
        "        Mu.append(c)\n",
        "        c=0\n",
        "\n",
        "    return Mu[1:]\n",
        "\n",
        "\n",
        "Spl = np.linspace(0, 1, K+1)  # Равномерное разбиение\n",
        "p = Spl[1]  # Вероятность попасть в один из интервалов\n",
        "M = getMu(Spl)  # Количество элементов выборки в каждом из интервалов\n",
        "\n",
        "print(n, K)\n",
        "print(Xu)\n",
        "print(Spl)\n",
        "print(\"-\" * 80)\n",
        "print(M, \"\\n\")\n",
        "print(Array_F_empirical)\n",
        "\n",
        "# Статистика Хи-квадрат\n",
        "D = 0\n",
        "n_p = n*p\n",
        "for i in range(K):\n",
        "    D += (M[i] - n_p)**2\n",
        "D /= (n_p)\n",
        "\n",
        "if D < q_ch: print(\"\\nВыборка равномерная\")\n",
        "else: print(\"\\nВыборка НЕ равномерная\")\n",
        "\n",
        "print()\n",
        "print(\"Квантиль:\", round(q_ch, 4))\n",
        "print(\"d:\", round(D, 4));\n",
        "print(\"РДУЗ:\",  1 - ch.cdf(D))\n"
      ],
      "execution_count": 11,
      "outputs": [
        {
          "output_type": "stream",
          "name": "stdout",
          "text": [
            "30 5\n",
            "[0.06  0.087 0.134 0.149 0.175 0.198 0.218 0.226 0.293 0.322 0.322 0.398\n",
            " 0.437 0.447 0.552 0.562 0.581 0.618 0.641 0.667 0.684 0.698 0.746 0.754\n",
            " 0.768 0.79  0.802 0.822 0.865 0.902]\n",
            "[0.  0.2 0.4 0.6 0.8 1. ]\n",
            "--------------------------------------------------------------------------------\n",
            "[6, 6, 5, 9, 4] \n",
            "\n"
          ]
        },
        {
          "output_type": "error",
          "ename": "NameError",
          "evalue": "name 'Array_F_empirical' is not defined",
          "traceback": [
            "\u001b[0;31m---------------------------------------------------------------------------\u001b[0m",
            "\u001b[0;31mNameError\u001b[0m                                 Traceback (most recent call last)",
            "\u001b[0;32m<ipython-input-11-329c8e9ec4db>\u001b[0m in \u001b[0;36m<cell line: 0>\u001b[0;34m()\u001b[0m\n\u001b[1;32m     25\u001b[0m \u001b[0mprint\u001b[0m\u001b[0;34m(\u001b[0m\u001b[0;34m\"-\"\u001b[0m \u001b[0;34m*\u001b[0m \u001b[0;36m80\u001b[0m\u001b[0;34m)\u001b[0m\u001b[0;34m\u001b[0m\u001b[0;34m\u001b[0m\u001b[0m\n\u001b[1;32m     26\u001b[0m \u001b[0mprint\u001b[0m\u001b[0;34m(\u001b[0m\u001b[0mM\u001b[0m\u001b[0;34m,\u001b[0m \u001b[0;34m\"\\n\"\u001b[0m\u001b[0;34m)\u001b[0m\u001b[0;34m\u001b[0m\u001b[0;34m\u001b[0m\u001b[0m\n\u001b[0;32m---> 27\u001b[0;31m \u001b[0mprint\u001b[0m\u001b[0;34m(\u001b[0m\u001b[0mArray_F_empirical\u001b[0m\u001b[0;34m)\u001b[0m\u001b[0;34m\u001b[0m\u001b[0;34m\u001b[0m\u001b[0m\n\u001b[0m\u001b[1;32m     28\u001b[0m \u001b[0;34m\u001b[0m\u001b[0m\n\u001b[1;32m     29\u001b[0m \u001b[0;31m# Статистика Хи-квадрат\u001b[0m\u001b[0;34m\u001b[0m\u001b[0;34m\u001b[0m\u001b[0m\n",
            "\u001b[0;31mNameError\u001b[0m: name 'Array_F_empirical' is not defined"
          ]
        }
      ]
    },
    {
      "cell_type": "markdown",
      "metadata": {
        "id": "v9afKONru5rJ"
      },
      "source": [
        "##Гипотизы о двух нормальных выборках  (N(α, σ^2))"
      ]
    },
    {
      "cell_type": "code",
      "metadata": {
        "id": "ngOvV-wXvKIh",
        "outputId": "c403824e-167d-4889-c8d1-e8a4de38632d",
        "colab": {
          "base_uri": "https://localhost:8080/"
        }
      },
      "source": [
        "X = Xn[:20]; n = X.size # первые 20 наблюдений\n",
        "print(X)\n",
        "X_ =  np.average(X)\n",
        "Y = Xn[20:]; m = Y.size # последние 30 наблюдений\n",
        "print(Y)\n",
        "Y_ =  np.average(Y)\n",
        "print(\"Выборочные средние:\")\n",
        "print(\"X:\",X_)\n",
        "print(\"Y:\",Y_)\n",
        "\n",
        "\n",
        "# Несмещённая выборочная дисперсия ( S^2_0 )\n",
        "S0_X = X - X_*np.ones(n)\n",
        "S0_X = sum(S0_X*S0_X)/(n - 1)\n",
        "\n",
        "S0_Y = Y - Y_*np.ones(m)\n",
        "S0_Y = sum(S0_Y*S0_Y)/(m - 1)\n",
        "\n",
        "print(\"Несмещённая выборочная дисперсия:\")\n",
        "print(\"S0_X:\", S0_X)\n",
        "print(\"S0_Y:\", S0_Y)\n",
        "print()\n",
        "\n",
        "\n",
        "# Распределение Фишера (n = 20, m = 30)\n",
        "fi = f(dfn = n-1, dfd = m-1)\n",
        "# Распределение Стьюдента\n",
        "st = nct(df = m+n-2, nc = 0)\n",
        "\n",
        "print(\"Квантили\")\n",
        "q_s = round(st.ppf(1 - eps/2),4) # квантиль Стьюдента уровня 1 - eps/2 = 0.965\n",
        "print(\"T:         \", q_s)\n",
        "f1 = round(fi.ppf(eps/2), 3)  # квантиль Фишера уровня eps/2 = 0.035\n",
        "print(\"F{e/2}:    \", f1)\n",
        "f2 = round(fi.ppf(1 - eps/2),3) # квантиль Фишера уровня 1 - eps/2 = 0.965\n",
        "print(\"F{1 - e/2}:\", f2)\n"
      ],
      "execution_count": 12,
      "outputs": [
        {
          "output_type": "stream",
          "name": "stdout",
          "text": [
            "[-1.126 -1.432 -0.156  0.26  -1.389  0.674 -1.331 -0.395  1.043 -2.331\n",
            " -1.044 -1.231 -1.225 -0.177 -0.938 -0.606 -1.21  -0.258 -1.013 -1.805]\n",
            "[-0.143 -2.986 -0.448 -1.131 -2.545 -0.554 -2.94  -2.282 -0.198  0.463\n",
            " -1.917 -1.15   0.325 -2.808 -1.485 -2.663 -0.567 -1.331  0.409 -0.661\n",
            " -0.818  0.786 -0.755  0.749 -1.25  -2.619 -0.867 -0.898 -0.632 -1.276]\n",
            "Выборочные средние:\n",
            "X: -0.7845\n",
            "Y: -1.0730666666666668\n",
            "Несмещённая выборочная дисперсия:\n",
            "S0_X: 0.6912322631578947\n",
            "S0_Y: 1.2471796505747126\n",
            "\n",
            "Квантили\n",
            "T:          1.8532\n",
            "F{e/2}:     0.446\n",
            "F{1 - e/2}: 2.098\n"
          ]
        }
      ]
    },
    {
      "cell_type": "code",
      "metadata": {
        "id": "QzUHpyyjxLLn",
        "outputId": "fa26dbf9-a15b-483f-f3db-51b0b4555a06",
        "colab": {
          "base_uri": "https://localhost:8080/"
        }
      },
      "source": [
        "# A (совпадение дисперсий при неизвестных средних)\n",
        "# Критерий Фишера\n",
        "\n",
        "D = S0_X/S0_Y # Статистика Фишера\n",
        "\n",
        "if f1<=D and D<=f2: print(\"Дисперсии совпали\")\n",
        "else: print(\"Дисперсии НЕ совпали\")\n",
        "print('d:', D)\n"
      ],
      "execution_count": 13,
      "outputs": [
        {
          "output_type": "stream",
          "name": "stdout",
          "text": [
            "Дисперсии совпали\n",
            "d: 0.5542363226014536\n"
          ]
        }
      ]
    },
    {
      "cell_type": "code",
      "metadata": {
        "id": "chMhfdXvEc6U",
        "outputId": "aadc0b67-bf58-4d55-dbc2-61b74ae2f21d",
        "colab": {
          "base_uri": "https://localhost:8080/"
        }
      },
      "source": [
        "# Б (совпадение средних при одной и той же неизвестной дисперсии)\n",
        "# Критерий Стьюдента\n",
        "\n",
        "Sq = sqrt((n*m)/(n + m))\n",
        "Denom = ( (n-1)*S0_X + (m-1)*S0_Y ) / (n+m-2)\n",
        "\n",
        "D = Sq*(X_ - Y_)/sqrt(Denom) # Статистика Стьюдента\n",
        "\n",
        "if abs(D) <= q_s: print(\"Мат. ожидания совпали\")\n",
        "else: print(\"Мат. ожидания НЕ совпали\")\n",
        "print('|d|:', abs(D))\n"
      ],
      "execution_count": 14,
      "outputs": [
        {
          "output_type": "stream",
          "name": "stdout",
          "text": [
            "Мат. ожидания совпали\n",
            "|d|: 0.9863403430537296\n"
          ]
        }
      ]
    }
  ]
}